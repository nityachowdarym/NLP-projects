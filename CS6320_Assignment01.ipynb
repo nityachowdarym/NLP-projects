{
 "cells": [
  {
   "cell_type": "code",
   "execution_count": 1,
   "id": "6e2f3114-2496-4951-a944-4259ac15342d",
   "metadata": {
    "scrolled": true
   },
   "outputs": [
    {
     "name": "stdout",
     "output_type": "stream",
     "text": [
      "Requirement already satisfied: nltk in c:\\users\\sujit kumar killi\\miniconda3\\lib\\site-packages (3.8.1)\n",
      "Requirement already satisfied: pandas in c:\\users\\sujit kumar killi\\miniconda3\\lib\\site-packages (2.1.1)\n",
      "Requirement already satisfied: click in c:\\users\\sujit kumar killi\\miniconda3\\lib\\site-packages (from nltk) (8.1.7)\n",
      "Requirement already satisfied: joblib in c:\\users\\sujit kumar killi\\miniconda3\\lib\\site-packages (from nltk) (1.3.2)\n",
      "Requirement already satisfied: regex>=2021.8.3 in c:\\users\\sujit kumar killi\\miniconda3\\lib\\site-packages (from nltk) (2023.8.8)\n",
      "Requirement already satisfied: tqdm in c:\\users\\sujit kumar killi\\miniconda3\\lib\\site-packages (from nltk) (4.65.0)\n",
      "Requirement already satisfied: numpy>=1.23.2 in c:\\users\\sujit kumar killi\\miniconda3\\lib\\site-packages (from pandas) (1.26.0)\n",
      "Requirement already satisfied: python-dateutil>=2.8.2 in c:\\users\\sujit kumar killi\\miniconda3\\lib\\site-packages (from pandas) (2.8.2)\n",
      "Requirement already satisfied: pytz>=2020.1 in c:\\users\\sujit kumar killi\\miniconda3\\lib\\site-packages (from pandas) (2023.3.post1)\n",
      "Requirement already satisfied: tzdata>=2022.1 in c:\\users\\sujit kumar killi\\miniconda3\\lib\\site-packages (from pandas) (2023.3)\n",
      "Requirement already satisfied: six>=1.5 in c:\\users\\sujit kumar killi\\miniconda3\\lib\\site-packages (from python-dateutil>=2.8.2->pandas) (1.16.0)\n",
      "Requirement already satisfied: colorama in c:\\users\\sujit kumar killi\\miniconda3\\lib\\site-packages (from click->nltk) (0.4.6)\n",
      "Note: you may need to restart the kernel to use updated packages.\n"
     ]
    }
   ],
   "source": [
    "pip install nltk pandas"
   ]
  },
  {
   "cell_type": "code",
   "execution_count": 2,
   "id": "2ab7de75-e67f-49ee-9418-84b5ba46becb",
   "metadata": {},
   "outputs": [],
   "source": [
    "# Import the required packages\n",
    "import zipfile\n",
    "import nltk\n",
    "import re\n",
    "import pandas as pd\n",
    "import math\n",
    "from nltk.tokenize import sent_tokenize, word_tokenize\n",
    "from collections import defaultdict"
   ]
  },
  {
   "cell_type": "code",
   "execution_count": 3,
   "id": "6acd84ba-d436-4726-892a-e108eb46c569",
   "metadata": {},
   "outputs": [
    {
     "name": "stderr",
     "output_type": "stream",
     "text": [
      "[nltk_data] Downloading package punkt to C:\\Users\\Sujit Kumar\n",
      "[nltk_data]     Killi\\AppData\\Roaming\\nltk_data...\n",
      "[nltk_data]   Package punkt is already up-to-date!\n"
     ]
    },
    {
     "data": {
      "text/plain": [
       "True"
      ]
     },
     "execution_count": 3,
     "metadata": {},
     "output_type": "execute_result"
    }
   ],
   "source": [
    "nltk.download('punkt')"
   ]
  },
  {
   "cell_type": "code",
   "execution_count": 4,
   "id": "73ca7e7f-fd54-411c-a83b-09601120dc22",
   "metadata": {},
   "outputs": [],
   "source": [
    "# Unzip the dataset\n",
    "dataset_path = 'A1_DATASET.zip'\n",
    "extract_path = '/content/'\n",
    "\n",
    "with zipfile.ZipFile(dataset_path, 'r') as zip_ref:\n",
    "    zip_ref.extractall(extract_path)"
   ]
  },
  {
   "cell_type": "code",
   "execution_count": 5,
   "id": "10d9d5c2-8c1a-4f8c-9dad-42511d0ba9cf",
   "metadata": {},
   "outputs": [],
   "source": [
    "# Open file function\n",
    "def open_file(file_path):\n",
    "    file = open(file_path,'r')\n",
    "    lines = file.readlines()\n",
    "    file.close()\n",
    "    return lines"
   ]
  },
  {
   "cell_type": "code",
   "execution_count": 6,
   "id": "31549c4c-73eb-4dd7-a80b-866019e6086a",
   "metadata": {},
   "outputs": [],
   "source": [
    "# pre_process the reviews to clean the strings\n",
    "def pre_process(lines):\n",
    "    result = []\n",
    "    for line in lines:\n",
    "        line = line.rstrip('\\n')\n",
    "        sentences = sent_tokenize(line)\n",
    "        for sentence in sentences:\n",
    "            sentence = sentence.rstrip('.')\n",
    "            # Substitue non string or white space character\n",
    "            sentence = re.sub(r'[^\\w\\s]', '', sentence)\n",
    "            # Substitute numerical digits\n",
    "            sentence = re.sub(r'\\d', '', sentence).lower()\n",
    "            tokens = word_tokenize(sentence)\n",
    "            if len(tokens) > 0:\n",
    "                result.append(['<s>'] + tokens + ['</s>'])\n",
    "    return result"
   ]
  },
  {
   "cell_type": "code",
   "execution_count": 7,
   "id": "61cd0536-6228-40f7-93ae-56d6c9e66739",
   "metadata": {},
   "outputs": [],
   "source": [
    "# Pre-process the reviews\n",
    "train_file_reviews = open_file('/content/A1_DATASET/train.txt')\n",
    "train_sentences = pre_process(train_file_reviews)"
   ]
  },
  {
   "cell_type": "code",
   "execution_count": 8,
   "id": "43139887-97b1-4554-8295-06f78ca52e2f",
   "metadata": {},
   "outputs": [],
   "source": [
    "# Generate the unigram frequencies and bigram frequencies\n",
    "def get_uni_and_bigram_frequencies(sentences):\n",
    "    unigram_frequencies,bigram_frequencies = defaultdict(int),defaultdict(int)\n",
    "    for sentence in sentences:\n",
    "        for ind in range(len(sentence)-1):\n",
    "            unigram_frequencies[sentence[ind]]+=1\n",
    "            if ind < len(sentence)-2:\n",
    "                bigram_frequencies[\" \".join(sentence[ind:ind+2])]+=1\n",
    "    return unigram_frequencies,bigram_frequencies"
   ]
  },
  {
   "cell_type": "code",
   "execution_count": 9,
   "id": "5ede5302-c250-48a2-a14d-c346db8e1cda",
   "metadata": {},
   "outputs": [],
   "source": [
    "unigram_frequencies,bigram_frequencies = get_uni_and_bigram_frequencies(train_sentences)"
   ]
  },
  {
   "cell_type": "code",
   "execution_count": 10,
   "id": "b9e504a6-c061-4fed-a39d-69a638be3353",
   "metadata": {},
   "outputs": [],
   "source": [
    "# Generate the unigram_table based on frequencies\n",
    "def get_unigram_table(unigram_frequency,add_numerator = 0,add_denominator = 0):\n",
    "    total_sum = sum(unigram_frequency.values())\n",
    "    unigram_table = pd.DataFrame(unigram_frequency.items(),columns=['UniGram', 'Counts'])\n",
    "    unigram_table['Probability'] = (unigram_table['Counts'] + add_numerator)/(total_sum + add_denominator)\n",
    "    return unigram_table"
   ]
  },
  {
   "cell_type": "code",
   "execution_count": 11,
   "id": "9eec2b9f-cd39-4270-aac1-d7fd197ffb5d",
   "metadata": {},
   "outputs": [],
   "source": [
    "# Generate the bigram_table based on frequencies\n",
    "def get_bigram_table(unigram_frequency,bigram_frequency,add_numerator = 0,add_denominator = 0):\n",
    "    bigram_table = pd.DataFrame(bigram_frequency.items(),columns=['BiGram','Counts'])\n",
    "    def create_probability(row):\n",
    "        return (row['Counts'] + add_numerator)/(unigram_frequency[row['BiGram'].split(\" \")[0]] + add_denominator)\n",
    "    bigram_table['Probability'] = bigram_table.apply(create_probability,axis = 1)\n",
    "    return bigram_table"
   ]
  },
  {
   "cell_type": "code",
   "execution_count": 12,
   "id": "8e288485-98d3-460f-85e5-13401e935a46",
   "metadata": {},
   "outputs": [
    {
     "data": {
      "text/html": [
       "<div>\n",
       "<style scoped>\n",
       "    .dataframe tbody tr th:only-of-type {\n",
       "        vertical-align: middle;\n",
       "    }\n",
       "\n",
       "    .dataframe tbody tr th {\n",
       "        vertical-align: top;\n",
       "    }\n",
       "\n",
       "    .dataframe thead th {\n",
       "        text-align: right;\n",
       "    }\n",
       "</style>\n",
       "<table border=\"1\" class=\"dataframe\">\n",
       "  <thead>\n",
       "    <tr style=\"text-align: right;\">\n",
       "      <th></th>\n",
       "      <th>UniGram</th>\n",
       "      <th>Counts</th>\n",
       "      <th>Probability</th>\n",
       "    </tr>\n",
       "  </thead>\n",
       "  <tbody>\n",
       "    <tr>\n",
       "      <th>0</th>\n",
       "      <td>&lt;s&gt;</td>\n",
       "      <td>5193</td>\n",
       "      <td>0.061968</td>\n",
       "    </tr>\n",
       "    <tr>\n",
       "      <th>1</th>\n",
       "      <td>i</td>\n",
       "      <td>1712</td>\n",
       "      <td>0.020429</td>\n",
       "    </tr>\n",
       "    <tr>\n",
       "      <th>2</th>\n",
       "      <td>booked</td>\n",
       "      <td>86</td>\n",
       "      <td>0.001026</td>\n",
       "    </tr>\n",
       "    <tr>\n",
       "      <th>3</th>\n",
       "      <td>two</td>\n",
       "      <td>128</td>\n",
       "      <td>0.001527</td>\n",
       "    </tr>\n",
       "    <tr>\n",
       "      <th>4</th>\n",
       "      <td>rooms</td>\n",
       "      <td>202</td>\n",
       "      <td>0.002410</td>\n",
       "    </tr>\n",
       "    <tr>\n",
       "      <th>...</th>\n",
       "      <td>...</td>\n",
       "      <td>...</td>\n",
       "      <td>...</td>\n",
       "    </tr>\n",
       "    <tr>\n",
       "      <th>5908</th>\n",
       "      <td>stirrers</td>\n",
       "      <td>1</td>\n",
       "      <td>0.000012</td>\n",
       "    </tr>\n",
       "    <tr>\n",
       "      <th>5909</th>\n",
       "      <td>yo</td>\n",
       "      <td>1</td>\n",
       "      <td>0.000012</td>\n",
       "    </tr>\n",
       "    <tr>\n",
       "      <th>5910</th>\n",
       "      <td>yahoo</td>\n",
       "      <td>1</td>\n",
       "      <td>0.000012</td>\n",
       "    </tr>\n",
       "    <tr>\n",
       "      <th>5911</th>\n",
       "      <td>guarantee</td>\n",
       "      <td>1</td>\n",
       "      <td>0.000012</td>\n",
       "    </tr>\n",
       "    <tr>\n",
       "      <th>5912</th>\n",
       "      <td>advertise</td>\n",
       "      <td>1</td>\n",
       "      <td>0.000012</td>\n",
       "    </tr>\n",
       "  </tbody>\n",
       "</table>\n",
       "<p>5913 rows × 3 columns</p>\n",
       "</div>"
      ],
      "text/plain": [
       "        UniGram  Counts  Probability\n",
       "0           <s>    5193     0.061968\n",
       "1             i    1712     0.020429\n",
       "2        booked      86     0.001026\n",
       "3           two     128     0.001527\n",
       "4         rooms     202     0.002410\n",
       "...         ...     ...          ...\n",
       "5908   stirrers       1     0.000012\n",
       "5909         yo       1     0.000012\n",
       "5910      yahoo       1     0.000012\n",
       "5911  guarantee       1     0.000012\n",
       "5912  advertise       1     0.000012\n",
       "\n",
       "[5913 rows x 3 columns]"
      ]
     },
     "execution_count": 12,
     "metadata": {},
     "output_type": "execute_result"
    }
   ],
   "source": [
    "unigram_table = get_unigram_table(unigram_frequencies)\n",
    "unigram_table"
   ]
  },
  {
   "cell_type": "code",
   "execution_count": 13,
   "id": "7a356588-729a-41eb-8af7-aedf8a431039",
   "metadata": {
    "scrolled": true
   },
   "outputs": [
    {
     "data": {
      "text/html": [
       "<div>\n",
       "<style scoped>\n",
       "    .dataframe tbody tr th:only-of-type {\n",
       "        vertical-align: middle;\n",
       "    }\n",
       "\n",
       "    .dataframe tbody tr th {\n",
       "        vertical-align: top;\n",
       "    }\n",
       "\n",
       "    .dataframe thead th {\n",
       "        text-align: right;\n",
       "    }\n",
       "</style>\n",
       "<table border=\"1\" class=\"dataframe\">\n",
       "  <thead>\n",
       "    <tr style=\"text-align: right;\">\n",
       "      <th></th>\n",
       "      <th>BiGram</th>\n",
       "      <th>Counts</th>\n",
       "      <th>Probability</th>\n",
       "    </tr>\n",
       "  </thead>\n",
       "  <tbody>\n",
       "    <tr>\n",
       "      <th>0</th>\n",
       "      <td>&lt;s&gt; i</td>\n",
       "      <td>710</td>\n",
       "      <td>0.136723</td>\n",
       "    </tr>\n",
       "    <tr>\n",
       "      <th>1</th>\n",
       "      <td>i booked</td>\n",
       "      <td>21</td>\n",
       "      <td>0.012266</td>\n",
       "    </tr>\n",
       "    <tr>\n",
       "      <th>2</th>\n",
       "      <td>booked two</td>\n",
       "      <td>1</td>\n",
       "      <td>0.011628</td>\n",
       "    </tr>\n",
       "    <tr>\n",
       "      <th>3</th>\n",
       "      <td>two rooms</td>\n",
       "      <td>3</td>\n",
       "      <td>0.023438</td>\n",
       "    </tr>\n",
       "    <tr>\n",
       "      <th>4</th>\n",
       "      <td>rooms four</td>\n",
       "      <td>1</td>\n",
       "      <td>0.004950</td>\n",
       "    </tr>\n",
       "    <tr>\n",
       "      <th>...</th>\n",
       "      <td>...</td>\n",
       "      <td>...</td>\n",
       "      <td>...</td>\n",
       "    </tr>\n",
       "    <tr>\n",
       "      <th>33968</th>\n",
       "      <td>stand by</td>\n",
       "      <td>1</td>\n",
       "      <td>0.142857</td>\n",
       "    </tr>\n",
       "    <tr>\n",
       "      <th>33969</th>\n",
       "      <td>their promise</td>\n",
       "      <td>1</td>\n",
       "      <td>0.009091</td>\n",
       "    </tr>\n",
       "    <tr>\n",
       "      <th>33970</th>\n",
       "      <td>promise they</td>\n",
       "      <td>1</td>\n",
       "      <td>0.250000</td>\n",
       "    </tr>\n",
       "    <tr>\n",
       "      <th>33971</th>\n",
       "      <td>they advertise</td>\n",
       "      <td>1</td>\n",
       "      <td>0.002041</td>\n",
       "    </tr>\n",
       "    <tr>\n",
       "      <th>33972</th>\n",
       "      <td>advertise in</td>\n",
       "      <td>1</td>\n",
       "      <td>1.000000</td>\n",
       "    </tr>\n",
       "  </tbody>\n",
       "</table>\n",
       "<p>33973 rows × 3 columns</p>\n",
       "</div>"
      ],
      "text/plain": [
       "               BiGram  Counts  Probability\n",
       "0               <s> i     710     0.136723\n",
       "1            i booked      21     0.012266\n",
       "2          booked two       1     0.011628\n",
       "3           two rooms       3     0.023438\n",
       "4          rooms four       1     0.004950\n",
       "...               ...     ...          ...\n",
       "33968        stand by       1     0.142857\n",
       "33969   their promise       1     0.009091\n",
       "33970    promise they       1     0.250000\n",
       "33971  they advertise       1     0.002041\n",
       "33972    advertise in       1     1.000000\n",
       "\n",
       "[33973 rows x 3 columns]"
      ]
     },
     "execution_count": 13,
     "metadata": {},
     "output_type": "execute_result"
    }
   ],
   "source": [
    "bigram_table = get_bigram_table(unigram_frequencies,bigram_frequencies)\n",
    "bigram_table"
   ]
  },
  {
   "cell_type": "markdown",
   "id": "408839ce-433e-4039-81e2-d436426a68aa",
   "metadata": {},
   "source": [
    "**Unknown words handling**"
   ]
  },
  {
   "cell_type": "code",
   "execution_count": 14,
   "id": "039f5fe3-af27-44c6-b39f-34384aa23f42",
   "metadata": {},
   "outputs": [],
   "source": [
    "# Replace n<=1 words with unknown word\n",
    "with_Unk_train_sentences = []\n",
    "for sentence in train_sentences:\n",
    "    updated_sentence = []\n",
    "    updated_sentence.append('<s>')\n",
    "    for ind in range(1,len(sentence)-1):\n",
    "        if unigram_frequencies[sentence[ind]] <= 1:\n",
    "            updated_sentence.append('<unk>')\n",
    "        else:\n",
    "            updated_sentence.append(sentence[ind])\n",
    "    updated_sentence.append('</s>')\n",
    "    with_Unk_train_sentences.append(updated_sentence)"
   ]
  },
  {
   "cell_type": "code",
   "execution_count": 15,
   "id": "ea463716-29f2-453d-8013-ede560f955c3",
   "metadata": {},
   "outputs": [],
   "source": [
    "with_UNK_unigram_frequencies,with_UNK_bigram_frequencies = get_uni_and_bigram_frequencies(with_Unk_train_sentences)"
   ]
  },
  {
   "cell_type": "code",
   "execution_count": 16,
   "id": "4e1c44c2-cbda-4d8b-b8bf-6322802b72e4",
   "metadata": {},
   "outputs": [
    {
     "data": {
      "text/html": [
       "<div>\n",
       "<style scoped>\n",
       "    .dataframe tbody tr th:only-of-type {\n",
       "        vertical-align: middle;\n",
       "    }\n",
       "\n",
       "    .dataframe tbody tr th {\n",
       "        vertical-align: top;\n",
       "    }\n",
       "\n",
       "    .dataframe thead th {\n",
       "        text-align: right;\n",
       "    }\n",
       "</style>\n",
       "<table border=\"1\" class=\"dataframe\">\n",
       "  <thead>\n",
       "    <tr style=\"text-align: right;\">\n",
       "      <th></th>\n",
       "      <th>UniGram</th>\n",
       "      <th>Counts</th>\n",
       "      <th>Probability</th>\n",
       "    </tr>\n",
       "  </thead>\n",
       "  <tbody>\n",
       "    <tr>\n",
       "      <th>0</th>\n",
       "      <td>&lt;s&gt;</td>\n",
       "      <td>5193</td>\n",
       "      <td>0.061968</td>\n",
       "    </tr>\n",
       "    <tr>\n",
       "      <th>1</th>\n",
       "      <td>i</td>\n",
       "      <td>1712</td>\n",
       "      <td>0.020429</td>\n",
       "    </tr>\n",
       "    <tr>\n",
       "      <th>2</th>\n",
       "      <td>booked</td>\n",
       "      <td>86</td>\n",
       "      <td>0.001026</td>\n",
       "    </tr>\n",
       "    <tr>\n",
       "      <th>3</th>\n",
       "      <td>two</td>\n",
       "      <td>128</td>\n",
       "      <td>0.001527</td>\n",
       "    </tr>\n",
       "    <tr>\n",
       "      <th>4</th>\n",
       "      <td>rooms</td>\n",
       "      <td>202</td>\n",
       "      <td>0.002410</td>\n",
       "    </tr>\n",
       "    <tr>\n",
       "      <th>...</th>\n",
       "      <td>...</td>\n",
       "      <td>...</td>\n",
       "      <td>...</td>\n",
       "    </tr>\n",
       "    <tr>\n",
       "      <th>2967</th>\n",
       "      <td>dried</td>\n",
       "      <td>2</td>\n",
       "      <td>0.000024</td>\n",
       "    </tr>\n",
       "    <tr>\n",
       "      <th>2968</th>\n",
       "      <td>disgusted</td>\n",
       "      <td>2</td>\n",
       "      <td>0.000024</td>\n",
       "    </tr>\n",
       "    <tr>\n",
       "      <th>2969</th>\n",
       "      <td>palm</td>\n",
       "      <td>2</td>\n",
       "      <td>0.000024</td>\n",
       "    </tr>\n",
       "    <tr>\n",
       "      <th>2970</th>\n",
       "      <td>doll</td>\n",
       "      <td>2</td>\n",
       "      <td>0.000024</td>\n",
       "    </tr>\n",
       "    <tr>\n",
       "      <th>2971</th>\n",
       "      <td>contrary</td>\n",
       "      <td>2</td>\n",
       "      <td>0.000024</td>\n",
       "    </tr>\n",
       "  </tbody>\n",
       "</table>\n",
       "<p>2972 rows × 3 columns</p>\n",
       "</div>"
      ],
      "text/plain": [
       "        UniGram  Counts  Probability\n",
       "0           <s>    5193     0.061968\n",
       "1             i    1712     0.020429\n",
       "2        booked      86     0.001026\n",
       "3           two     128     0.001527\n",
       "4         rooms     202     0.002410\n",
       "...         ...     ...          ...\n",
       "2967      dried       2     0.000024\n",
       "2968  disgusted       2     0.000024\n",
       "2969       palm       2     0.000024\n",
       "2970       doll       2     0.000024\n",
       "2971   contrary       2     0.000024\n",
       "\n",
       "[2972 rows x 3 columns]"
      ]
     },
     "execution_count": 16,
     "metadata": {},
     "output_type": "execute_result"
    }
   ],
   "source": [
    "with_UNK_unigram_table = get_unigram_table(with_UNK_unigram_frequencies)\n",
    "with_UNK_unigram_table"
   ]
  },
  {
   "cell_type": "code",
   "execution_count": 17,
   "id": "1117c99e-ff13-4b5c-a153-8b94706ee5d7",
   "metadata": {},
   "outputs": [
    {
     "data": {
      "text/html": [
       "<div>\n",
       "<style scoped>\n",
       "    .dataframe tbody tr th:only-of-type {\n",
       "        vertical-align: middle;\n",
       "    }\n",
       "\n",
       "    .dataframe tbody tr th {\n",
       "        vertical-align: top;\n",
       "    }\n",
       "\n",
       "    .dataframe thead th {\n",
       "        text-align: right;\n",
       "    }\n",
       "</style>\n",
       "<table border=\"1\" class=\"dataframe\">\n",
       "  <thead>\n",
       "    <tr style=\"text-align: right;\">\n",
       "      <th></th>\n",
       "      <th>BiGram</th>\n",
       "      <th>Counts</th>\n",
       "      <th>Probability</th>\n",
       "    </tr>\n",
       "  </thead>\n",
       "  <tbody>\n",
       "    <tr>\n",
       "      <th>0</th>\n",
       "      <td>&lt;s&gt; i</td>\n",
       "      <td>710</td>\n",
       "      <td>0.136723</td>\n",
       "    </tr>\n",
       "    <tr>\n",
       "      <th>1</th>\n",
       "      <td>i booked</td>\n",
       "      <td>21</td>\n",
       "      <td>0.012266</td>\n",
       "    </tr>\n",
       "    <tr>\n",
       "      <th>2</th>\n",
       "      <td>booked two</td>\n",
       "      <td>1</td>\n",
       "      <td>0.011628</td>\n",
       "    </tr>\n",
       "    <tr>\n",
       "      <th>3</th>\n",
       "      <td>two rooms</td>\n",
       "      <td>3</td>\n",
       "      <td>0.023438</td>\n",
       "    </tr>\n",
       "    <tr>\n",
       "      <th>4</th>\n",
       "      <td>rooms four</td>\n",
       "      <td>1</td>\n",
       "      <td>0.004950</td>\n",
       "    </tr>\n",
       "    <tr>\n",
       "      <th>...</th>\n",
       "      <td>...</td>\n",
       "      <td>...</td>\n",
       "      <td>...</td>\n",
       "    </tr>\n",
       "    <tr>\n",
       "      <th>30089</th>\n",
       "      <td>you paid</td>\n",
       "      <td>1</td>\n",
       "      <td>0.002242</td>\n",
       "    </tr>\n",
       "    <tr>\n",
       "      <th>30090</th>\n",
       "      <td>not stand</td>\n",
       "      <td>1</td>\n",
       "      <td>0.001629</td>\n",
       "    </tr>\n",
       "    <tr>\n",
       "      <th>30091</th>\n",
       "      <td>stand by</td>\n",
       "      <td>1</td>\n",
       "      <td>0.142857</td>\n",
       "    </tr>\n",
       "    <tr>\n",
       "      <th>30092</th>\n",
       "      <td>their promise</td>\n",
       "      <td>1</td>\n",
       "      <td>0.009091</td>\n",
       "    </tr>\n",
       "    <tr>\n",
       "      <th>30093</th>\n",
       "      <td>promise they</td>\n",
       "      <td>1</td>\n",
       "      <td>0.250000</td>\n",
       "    </tr>\n",
       "  </tbody>\n",
       "</table>\n",
       "<p>30094 rows × 3 columns</p>\n",
       "</div>"
      ],
      "text/plain": [
       "              BiGram  Counts  Probability\n",
       "0              <s> i     710     0.136723\n",
       "1           i booked      21     0.012266\n",
       "2         booked two       1     0.011628\n",
       "3          two rooms       3     0.023438\n",
       "4         rooms four       1     0.004950\n",
       "...              ...     ...          ...\n",
       "30089       you paid       1     0.002242\n",
       "30090      not stand       1     0.001629\n",
       "30091       stand by       1     0.142857\n",
       "30092  their promise       1     0.009091\n",
       "30093   promise they       1     0.250000\n",
       "\n",
       "[30094 rows x 3 columns]"
      ]
     },
     "execution_count": 17,
     "metadata": {},
     "output_type": "execute_result"
    }
   ],
   "source": [
    "with_UNK_bigram_table = get_bigram_table(with_UNK_unigram_frequencies,with_UNK_bigram_frequencies)\n",
    "with_UNK_bigram_table"
   ]
  },
  {
   "cell_type": "markdown",
   "id": "c9dacd8e-2551-4ab3-b5df-71b2f9ef6483",
   "metadata": {},
   "source": [
    "**Smoothing with Katz backoff**"
   ]
  },
  {
   "cell_type": "code",
   "execution_count": 18,
   "id": "df31caf2-2140-4ae9-9a62-0081cac739e7",
   "metadata": {},
   "outputs": [],
   "source": [
    "def katz_backoff_unigram(term,unigram_dict,alpha=0.1):\n",
    "    prob = unigram_dict[term]\n",
    "    if prob == 0:\n",
    "        prob = alpha*unigram_dict['<unk>']\n",
    "    return prob\n",
    "def katz_backoff_bigram(term,unigram_dict,bigram_dict,alpha=0.1):\n",
    "    prob = bigram_dict[term]\n",
    "    if prob == 0:\n",
    "        prob = alpha*unigram_dict[term.split(\" \")[0]]\n",
    "    if prob == 0:\n",
    "        prob = alpha*unigram_dict['<unk>']\n",
    "    return prob"
   ]
  },
  {
   "cell_type": "markdown",
   "id": "a9525571-c184-4217-ae10-721920b07ab0",
   "metadata": {},
   "source": [
    "**Smoothing with linear interpolation**"
   ]
  },
  {
   "cell_type": "code",
   "execution_count": 19,
   "id": "0af37c87-7653-47bc-8f29-91436f0a3ac5",
   "metadata": {},
   "outputs": [],
   "source": [
    "def linear_interpolation_unigram(term,unigram_dict):\n",
    "    prob = unigram_dict[term]\n",
    "    if prob == 0:\n",
    "        prob = unigram_dict['<unk>']\n",
    "    return prob\n",
    "def linear_interpolation_bigram(term,unigram_dict,bigram_dict,lambda1=0.9,lambda2=0.1):\n",
    "    prob1 = bigram_dict[term]\n",
    "    prob2 = unigram_dict[term.split(\" \")[0]]\n",
    "    if prob2 == 0:\n",
    "        prob2 = unigram_dict['<unk>']\n",
    "    prob = lambda1*prob1 + lambda2*prob2\n",
    "    return prob"
   ]
  },
  {
   "cell_type": "markdown",
   "id": "89c46850-3180-4c6e-97ee-4226d7e9bffc",
   "metadata": {},
   "source": [
    "**Perplexity**"
   ]
  },
  {
   "cell_type": "code",
   "execution_count": 20,
   "id": "b95877ca-dd31-4a72-9152-30672f00b1dd",
   "metadata": {},
   "outputs": [],
   "source": [
    "test_file_reviews = open_file('/content/A1_DATASET/val.txt')\n",
    "test_sentences = pre_process(test_file_reviews)"
   ]
  },
  {
   "cell_type": "code",
   "execution_count": 21,
   "id": "8bad54ee-a667-4a13-b8ef-ab77a6e477f1",
   "metadata": {},
   "outputs": [],
   "source": [
    "# Create dictionary from the n-gram tables\n",
    "def get_probab_dictionaries(unigram_table,bigram_table):\n",
    "    unigram_dict,bigram_dict = defaultdict(int), defaultdict(int)\n",
    "    for index,row in unigram_table.iterrows():\n",
    "        unigram_dict[row['UniGram']] = row['Probability']\n",
    "    for index,row in bigram_table.iterrows():\n",
    "        bigram_dict[row['BiGram']] = row['Probability']\n",
    "    return unigram_dict, bigram_dict"
   ]
  },
  {
   "cell_type": "code",
   "execution_count": 34,
   "id": "33572269-b17a-43e4-b412-419385a6f6ba",
   "metadata": {},
   "outputs": [],
   "source": [
    "def calculate_perplexities(unigram_table,bigram_table,test_sentences,alpha=0.1,lambda1=0.9,lambda2=0.1):\n",
    "    unigram_dict,bigram_dict = get_probab_dictionaries(unigram_table,bigram_table)\n",
    "    unigram_total_perplexity_kb,bigram_total_perplexity_kb = 0,0\n",
    "    unigram_total_perplexity_li,bigram_total_perplexity_li = 0,0\n",
    "    for testSet in test_sentences:\n",
    "        unigram_log_probabilities_kb,bigram_log_probabilities_kb = 0,0\n",
    "        unigram_log_probabilities_li,bigram_log_probabilities_li = 0,0\n",
    "        for ind in range(len(testSet)-1):\n",
    "            unigram_log_probabilities_kb+= math.log(katz_backoff_unigram(testSet[ind],unigram_dict,alpha))\n",
    "            unigram_log_probabilities_li+= math.log(linear_interpolation_unigram(testSet[ind],unigram_dict))\n",
    "            if ind < len(testSet)-2:\n",
    "                bigram_log_probabilities_kb+=math.log(katz_backoff_bigram(\" \".join(testSet[ind:ind+2]),unigram_dict,bigram_dict,alpha))\n",
    "                bigram_log_probabilities_li+=math.log(linear_interpolation_bigram(\" \".join(testSet[ind:ind+2]),unigram_dict,bigram_dict,lambda1,lambda2))\n",
    "        unigram_total_perplexity_kb+= math.exp(-unigram_log_probabilities_kb/(len(testSet)-1))\n",
    "        bigram_total_perplexity_kb+= math.exp(-bigram_log_probabilities_kb/(len(testSet)-1))\n",
    "        unigram_total_perplexity_li+= math.exp(-unigram_log_probabilities_li/(len(testSet)-1))\n",
    "        bigram_total_perplexity_li+= math.exp(-bigram_log_probabilities_li/(len(testSet)-1))\n",
    "    print(\"Katz backoff\")\n",
    "    print(\"Unigram perplexity Katz backoff\", round(unigram_total_perplexity_kb/len(test_sentences),2))\n",
    "    print(\"Bigram perplexity Katz backoff\", round(bigram_total_perplexity_kb/len(test_sentences),2))\n",
    "    print(\"\\n\")\n",
    "    print(\"Linear interpolation\")\n",
    "    print(\"Unigram perplexity Linear interpolation\", round(unigram_total_perplexity_li/len(test_sentences),2))\n",
    "    print(\"Bigram perplexity Linear interpolation\", round(bigram_total_perplexity_li/len(test_sentences),2))\n",
    "    print(\"\\n\")"
   ]
  },
  {
   "cell_type": "markdown",
   "id": "3216cb57-0cde-4f00-aac7-e8fd1bc65c29",
   "metadata": {},
   "source": [
    "**Training perplexities**"
   ]
  },
  {
   "cell_type": "code",
   "execution_count": 35,
   "id": "a462e077-386f-48b9-92fb-81677506e432",
   "metadata": {},
   "outputs": [
    {
     "name": "stdout",
     "output_type": "stream",
     "text": [
      "Training set \n",
      "\n",
      "Katz backoff\n",
      "Unigram perplexity Katz backoff 374.22\n",
      "Bigram perplexity Katz backoff 38.34\n",
      "\n",
      "\n",
      "Linear interpolation\n",
      "Unigram perplexity Linear interpolation 349.65\n",
      "Bigram perplexity Linear interpolation 31.53\n",
      "\n",
      "\n"
     ]
    }
   ],
   "source": [
    "print(\"Training set \\n\")\n",
    "calculate_perplexities(with_UNK_unigram_table,with_UNK_bigram_table,train_sentences)"
   ]
  },
  {
   "cell_type": "markdown",
   "id": "5144309e-0024-4f9c-a131-0edea97282f1",
   "metadata": {},
   "source": [
    "**Test perplexities**"
   ]
  },
  {
   "cell_type": "markdown",
   "id": "bdea47d9-96e8-42b8-a3e8-5def53e1b8b6",
   "metadata": {},
   "source": [
    "**alpha=0.1, lambda1=0.9, lambda2=0.1**"
   ]
  },
  {
   "cell_type": "code",
   "execution_count": 36,
   "id": "c57b8bf2-01f4-4c06-b6bb-4d2ce163a9ce",
   "metadata": {},
   "outputs": [
    {
     "name": "stdout",
     "output_type": "stream",
     "text": [
      "Test set \n",
      "\n",
      "Katz backoff\n",
      "Unigram perplexity Katz backoff 341.41\n",
      "Bigram perplexity Katz backoff 198.11\n",
      "\n",
      "\n",
      "Linear interpolation\n",
      "Unigram perplexity Linear interpolation 310.11\n",
      "Bigram perplexity Linear interpolation 170.94\n",
      "\n",
      "\n"
     ]
    }
   ],
   "source": [
    "print(\"Test set \\n\")\n",
    "calculate_perplexities(with_UNK_unigram_table,with_UNK_bigram_table,test_sentences)"
   ]
  },
  {
   "cell_type": "markdown",
   "id": "4c094722-04f9-47ae-bf60-bcea15bd0e0d",
   "metadata": {},
   "source": [
    "**alpha=0.2, lambda1=0.8, lambda2=0.2**"
   ]
  },
  {
   "cell_type": "code",
   "execution_count": 37,
   "id": "f954a706-110b-451f-ac77-d7c6e56fc798",
   "metadata": {},
   "outputs": [
    {
     "name": "stdout",
     "output_type": "stream",
     "text": [
      "Test set \n",
      "\n",
      "Katz backoff\n",
      "Unigram perplexity Katz backoff 330.93\n",
      "Bigram perplexity Katz backoff 146.51\n",
      "\n",
      "\n",
      "Linear interpolation\n",
      "Unigram perplexity Linear interpolation 310.11\n",
      "Bigram perplexity Linear interpolation 121.71\n",
      "\n",
      "\n"
     ]
    }
   ],
   "source": [
    "print(\"Test set \\n\")\n",
    "calculate_perplexities(with_UNK_unigram_table,with_UNK_bigram_table,test_sentences,0.2,0.8,0.2)"
   ]
  },
  {
   "cell_type": "markdown",
   "id": "d6112600-1d02-461a-914c-b7bd7b398539",
   "metadata": {},
   "source": [
    "**alpha=0.3, lambda1=0.7, lambda2=0.3**"
   ]
  },
  {
   "cell_type": "code",
   "execution_count": 38,
   "id": "94cb6210-adfe-4e15-8937-0a40efca576f",
   "metadata": {},
   "outputs": [
    {
     "name": "stdout",
     "output_type": "stream",
     "text": [
      "Test set \n",
      "\n",
      "Katz backoff\n",
      "Unigram perplexity Katz backoff 325.25\n",
      "Bigram perplexity Katz backoff 123.63\n",
      "\n",
      "\n",
      "Linear interpolation\n",
      "Unigram perplexity Linear interpolation 310.11\n",
      "Bigram perplexity Linear interpolation 101.57\n",
      "\n",
      "\n"
     ]
    }
   ],
   "source": [
    "print(\"Test set \\n\")\n",
    "calculate_perplexities(with_UNK_unigram_table,with_UNK_bigram_table,test_sentences,0.3,0.7,0.3)"
   ]
  },
  {
   "cell_type": "markdown",
   "id": "a6b882b4-1aa7-4aa2-a13c-0356a0bb740b",
   "metadata": {},
   "source": [
    "**alpha=0.4, lambda1=0.6, lambda2=0.4**"
   ]
  },
  {
   "cell_type": "code",
   "execution_count": 39,
   "id": "f5d98f97-6854-4e14-ba79-a2b5ca2959dc",
   "metadata": {},
   "outputs": [
    {
     "name": "stdout",
     "output_type": "stream",
     "text": [
      "Test set \n",
      "\n",
      "Katz backoff\n",
      "Unigram perplexity Katz backoff 321.41\n",
      "Bigram perplexity Katz backoff 109.93\n",
      "\n",
      "\n",
      "Linear interpolation\n",
      "Unigram perplexity Linear interpolation 310.11\n",
      "Bigram perplexity Linear interpolation 90.8\n",
      "\n",
      "\n"
     ]
    }
   ],
   "source": [
    "print(\"Test set \\n\")\n",
    "calculate_perplexities(with_UNK_unigram_table,with_UNK_bigram_table,test_sentences,0.4,0.6,0.4)"
   ]
  },
  {
   "cell_type": "code",
   "execution_count": null,
   "id": "20d91c21-4a4d-4d38-a43b-df0cd26f7f53",
   "metadata": {},
   "outputs": [],
   "source": []
  }
 ],
 "metadata": {
  "kernelspec": {
   "display_name": "Python 3 (ipykernel)",
   "language": "python",
   "name": "python3"
  },
  "language_info": {
   "codemirror_mode": {
    "name": "ipython",
    "version": 3
   },
   "file_extension": ".py",
   "mimetype": "text/x-python",
   "name": "python",
   "nbconvert_exporter": "python",
   "pygments_lexer": "ipython3",
   "version": "3.11.4"
  }
 },
 "nbformat": 4,
 "nbformat_minor": 5
}
